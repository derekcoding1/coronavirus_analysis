{
 "cells": [
  {
   "cell_type": "code",
   "execution_count": 1,
   "metadata": {},
   "outputs": [],
   "source": [
    "import codecs\n",
    "import re\n",
    "import numpy as np\n",
    "import pymysql"
   ]
  },
  {
   "cell_type": "code",
   "execution_count": 2,
   "metadata": {},
   "outputs": [],
   "source": [
    "from snownlp import SnowNLP\n",
    "import matplotlib.pyplot as plt\n",
    "from snownlp import sentiment\n",
    "from snownlp.sentiment import Sentiment"
   ]
  },
  {
   "cell_type": "code",
   "execution_count": 3,
   "metadata": {},
   "outputs": [],
   "source": [
    "import pandas as pd\n",
    "import numpy as np"
   ]
  },
  {
   "cell_type": "code",
   "execution_count": 19,
   "metadata": {},
   "outputs": [],
   "source": [
    "date = [\"19\",\"20\",\"21\",\"22\",\"23\",\"24\",\"25\",\"26\",\"27\",\"28\",\"29\",\"30\",\"31\",\"1\",\"2\",\"3\",\"4\",\"5\",\"6\"]"
   ]
  },
  {
   "cell_type": "code",
   "execution_count": 4,
   "metadata": {},
   "outputs": [],
   "source": [
    "data = pd.read_excel(\"C:\\\\Users\\\\chengyi\\\\Desktop\\\\scrape\\\\WeiboSearch\\\\data\\\\19-21.xlsx\")"
   ]
  },
  {
   "cell_type": "code",
   "execution_count": 5,
   "metadata": {},
   "outputs": [],
   "source": [
    "weibo = data['content']"
   ]
  },
  {
   "cell_type": "code",
   "execution_count": 6,
   "metadata": {},
   "outputs": [],
   "source": [
    "weibo = weibo.tolist()"
   ]
  },
  {
   "cell_type": "code",
   "execution_count": 69,
   "metadata": {},
   "outputs": [],
   "source": [
    "def snowanalysis(self):\n",
    "    #sentimentslist = []\n",
    "    i = 0\n",
    "    p = 0\n",
    "    for li in self:\n",
    "        i += 1\n",
    "        s = SnowNLP(li)\n",
    "        if s.sentiments > 0.5:\n",
    "            p += 1\n",
    "        #sentimentslist.append(s.sentiments)\n",
    "    #plt.hist(sentimentslist, bins=np.arange(0, 1, 0.01))\n",
    "    #plt.show()\n",
    "    return p/i"
   ]
  },
  {
   "cell_type": "code",
   "execution_count": 78,
   "metadata": {},
   "outputs": [
    {
     "data": {
      "text/plain": [
       "[<matplotlib.lines.Line2D at 0x1c6345bcb88>]"
      ]
     },
     "execution_count": 78,
     "metadata": {},
     "output_type": "execute_result"
    },
    {
     "data": {
      "image/png": "[encoded data removed]",
      "text/plain": [
       "<Figure size 720x360 with 1 Axes>"
      ]
     },
     "metadata": {
      "needs_background": "light"
     },
     "output_type": "display_data"
    }
   ],
   "source": [
    "plt.figure(figsize=(10,5))\n",
    "plt.plot(d,p)"
   ]
  },
  {
   "cell_type": "code",
   "execution_count": 74,
   "metadata": {},
   "outputs": [],
   "source": [
    "d = [\"Jan19\",\"Jan20\",\"Jan21\",\"Jan22\",\"Jan23\",\"Jan24\",\"Jan25\",\"Jan26\",\"Jan27\",\"Jan28\",\"Jan29\",\"Jan30\",\"Jan31\",\"Feb1\",\"Feb2\",\"Feb3\",\"Feb4\",\"Feb5\",\"Feb6\"]"
   ]
  },
  {
   "cell_type": "code",
   "execution_count": 68,
   "metadata": {},
   "outputs": [
    {
     "data": {
      "text/plain": [
       "[0.5882352941176471,\n",
       " 0.4697986577181208,\n",
       " 0.5503355704697986,\n",
       " 0.5370370370370371,\n",
       " 0.6285714285714286,\n",
       " 0.6477987421383647,\n",
       " 0.5850340136054422,\n",
       " 0.6638655462184874,\n",
       " 0.6857142857142857,\n",
       " 0.6824324324324325,\n",
       " 0.65,\n",
       " 0.7192982456140351,\n",
       " 0.4148936170212766,\n",
       " 0.696969696969697,\n",
       " 0.6685714285714286,\n",
       " 0.7628205128205128,\n",
       " 0.6647398843930635,\n",
       " 0.7651006711409396,\n",
       " 0.6589595375722543]"
      ]
     },
     "execution_count": 68,
     "metadata": {},
     "output_type": "execute_result"
    }
   ],
   "source": [
    "p"
   ]
  },
  {
   "cell_type": "code",
   "execution_count": null,
   "metadata": {},
   "outputs": [],
   "source": []
  },
  {
   "cell_type": "code",
   "execution_count": 32,
   "metadata": {},
   "outputs": [
    {
     "name": "stdout",
     "output_type": "stream",
     "text": [
      "--------------19\n",
      "--------------20\n",
      "--------------21\n",
      "--------------22\n",
      "--------------23\n",
      "--------------24\n",
      "--------------25\n",
      "--------------26\n",
      "--------------27\n",
      "--------------28\n",
      "--------------29\n",
      "--------------30\n",
      "--------------31\n",
      "--------------1\n",
      "--------------2\n",
      "--------------3\n",
      "--------------4\n",
      "--------------5\n",
      "--------------6\n"
     ]
    }
   ],
   "source": [
    "p = []\n",
    "for i in date:\n",
    "    print(\"--------------\"+i)\n",
    "    data = pd.read_excel(\"C:\\\\Users\\\\chengyi\\\\Desktop\\\\scrape\\\\WeiboSearch\\\\data\\\\\"+i+\".xlsx\")\n",
    "    weibo = data['content'].tolist()\n",
    "    try:\n",
    "        p.append(snowanalysis(weibo))\n",
    "    except TypeError:\n",
    "        p.append(0)\n",
    "    "
   ]
  }
 ],
 "metadata": {
  "kernelspec": {
   "display_name": "Python 3",
   "language": "python",
   "name": "python3"
  },
  "language_info": {
   "codemirror_mode": {
    "name": "ipython",
    "version": 3
   },
   "file_extension": ".py",
   "mimetype": "text/x-python",
   "name": "python",
   "nbconvert_exporter": "python",
   "pygments_lexer": "ipython3",
   "version": "3.7.4"
  }
 },
 "nbformat": 4,
 "nbformat_minor": 2
}
